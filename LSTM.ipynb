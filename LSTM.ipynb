{
 "cells": [
  {
   "cell_type": "markdown",
   "metadata": {
    "id": "qD4sujxpl9wB"
   },
   "source": [
    "## LSTM model\n",
    "\n",
    "We will be working with **Multivariate time series data** which means that the data has more than one feature (input) for each time step"
   ]
  },
  {
   "cell_type": "code",
   "execution_count": 1,
   "metadata": {
    "id": "8wmfzqMZl81C"
   },
   "outputs": [],
   "source": [
    "import pandas as pd\n",
    "import numpy as np\n",
    "from keras.models import Sequential\n",
    "from keras.layers import LSTM\n",
    "from keras.layers import Dense"
   ]
  },
  {
   "cell_type": "markdown",
   "metadata": {
    "id": "4fIOdAKznd4O"
   },
   "source": [
    "## Dataset\n",
    "\n",
    "Simple example of two input time series (**X1** and **X2**) where the output series (**y**) is the simple addition of the input series (**y=X1+X2**)"
   ]
  },
  {
   "cell_type": "code",
   "execution_count": 2,
   "metadata": {
    "id": "AdLyWHbFc9jF"
   },
   "outputs": [],
   "source": [
    "N = 50 # Number of samples\n",
    "in_1 = [i*10 for i in range(1,N)]\n",
    "in_2 = [i*10+5 for i in range(1,N)]\n",
    "out = [in_1[i]+in_2[i] for i in range(len(in_1))]"
   ]
  },
  {
   "cell_type": "code",
   "execution_count": 3,
   "metadata": {
    "colab": {
     "base_uri": "https://localhost:8080/",
     "height": 204
    },
    "id": "L4kIVV-QnDjp",
    "outputId": "36ebb607-69b4-499e-eca3-16aa65581784"
   },
   "outputs": [
    {
     "data": {
      "text/html": [
       "<div>\n",
       "<style scoped>\n",
       "    .dataframe tbody tr th:only-of-type {\n",
       "        vertical-align: middle;\n",
       "    }\n",
       "\n",
       "    .dataframe tbody tr th {\n",
       "        vertical-align: top;\n",
       "    }\n",
       "\n",
       "    .dataframe thead th {\n",
       "        text-align: right;\n",
       "    }\n",
       "</style>\n",
       "<table border=\"1\" class=\"dataframe\">\n",
       "  <thead>\n",
       "    <tr style=\"text-align: right;\">\n",
       "      <th></th>\n",
       "      <th>X1</th>\n",
       "      <th>X2</th>\n",
       "      <th>y</th>\n",
       "    </tr>\n",
       "  </thead>\n",
       "  <tbody>\n",
       "    <tr>\n",
       "      <th>0</th>\n",
       "      <td>10</td>\n",
       "      <td>15</td>\n",
       "      <td>25</td>\n",
       "    </tr>\n",
       "    <tr>\n",
       "      <th>1</th>\n",
       "      <td>20</td>\n",
       "      <td>25</td>\n",
       "      <td>45</td>\n",
       "    </tr>\n",
       "    <tr>\n",
       "      <th>2</th>\n",
       "      <td>30</td>\n",
       "      <td>35</td>\n",
       "      <td>65</td>\n",
       "    </tr>\n",
       "    <tr>\n",
       "      <th>3</th>\n",
       "      <td>40</td>\n",
       "      <td>45</td>\n",
       "      <td>85</td>\n",
       "    </tr>\n",
       "    <tr>\n",
       "      <th>4</th>\n",
       "      <td>50</td>\n",
       "      <td>55</td>\n",
       "      <td>105</td>\n",
       "    </tr>\n",
       "  </tbody>\n",
       "</table>\n",
       "</div>"
      ],
      "text/plain": [
       "   X1  X2    y\n",
       "0  10  15   25\n",
       "1  20  25   45\n",
       "2  30  35   65\n",
       "3  40  45   85\n",
       "4  50  55  105"
      ]
     },
     "execution_count": 3,
     "metadata": {},
     "output_type": "execute_result"
    }
   ],
   "source": [
    "df = pd.DataFrame()\n",
    "df[\"X1\"] = in_1\n",
    "df[\"X2\"] = in_2\n",
    "df[\"y\"] = out\n",
    "df.head()"
   ]
  },
  {
   "cell_type": "markdown",
   "metadata": {
    "id": "uoA_m98AqYUB"
   },
   "source": [
    "## Made data as 3D\n",
    "\n",
    "This is the main step where we make our dataset as 3D shape (because LSTM requires it in this way) \n",
    "\n",
    "*(number_samples, number_timesteps, number_features)*\n",
    "\n",
    "Obviously `number_features = 2` here (because **X1, X2** are the 2 input features)\n",
    "\n",
    "Suppose if `number_timesteps = 3` then, our first sample input will be:\n",
    "\n",
    "**Input**:\n",
    "\n",
    "10, 15\n",
    "\n",
    "20, 25\n",
    "\n",
    "30, 35\n",
    "\n",
    "and our output will be (corresponding to last sample):\n",
    "\n",
    "**Output**:\n",
    "\n",
    "65\n",
    "\n",
    "We can define a function named **split_sequences()** that will make the dataset into the form as we have discussed above (through some very simple manipulations)\n",
    "\n",
    "In this function, the arguement `sequences` denote the entire dataset and `n_steps` denote the **number_timesteps**"
   ]
  },
  {
   "cell_type": "code",
   "execution_count": 4,
   "metadata": {
    "id": "A_NAQOkPqNME"
   },
   "outputs": [],
   "source": [
    "def split_sequences(sequences, n_steps):\n",
    "    X, y = list(), list()\n",
    "    for i in range(len(sequences)):\n",
    "        end_ix = i + n_steps\n",
    "        if end_ix > len(sequences):\n",
    "          break\n",
    "        seq_x, seq_y = sequences[i:end_ix, :-1], sequences[end_ix-1, -1]\n",
    "        X.append(seq_x)\n",
    "        y.append(seq_y)\n",
    "    return np.array(X), np.array(y)"
   ]
  },
  {
   "cell_type": "code",
   "execution_count": 5,
   "metadata": {
    "id": "QNbXZINhsMSe"
   },
   "outputs": [],
   "source": [
    "X, y = split_sequences(df.values, 3)"
   ]
  },
  {
   "cell_type": "code",
   "execution_count": 6,
   "metadata": {
    "colab": {
     "base_uri": "https://localhost:8080/"
    },
    "id": "x_uLJA4StWbN",
    "outputId": "0f38570d-7c4c-44f3-cd43-b786c5683950"
   },
   "outputs": [
    {
     "data": {
      "text/plain": [
       "((47, 3, 2), (47,))"
      ]
     },
     "execution_count": 6,
     "metadata": {},
     "output_type": "execute_result"
    }
   ],
   "source": [
    "X.shape, y.shape"
   ]
  },
  {
   "cell_type": "markdown",
   "metadata": {
    "id": "gP6zfSYItd1o"
   },
   "source": [
    "### First sample"
   ]
  },
  {
   "cell_type": "code",
   "execution_count": 7,
   "metadata": {
    "colab": {
     "base_uri": "https://localhost:8080/"
    },
    "id": "M8304CjjtbHD",
    "outputId": "e4b6a359-9d41-4dd7-8117-a3d05e8e3abd"
   },
   "outputs": [
    {
     "data": {
      "text/plain": [
       "(array([[10, 15],\n",
       "        [20, 25],\n",
       "        [30, 35]], dtype=int64),\n",
       " 65)"
      ]
     },
     "execution_count": 7,
     "metadata": {},
     "output_type": "execute_result"
    }
   ],
   "source": [
    "X[0], y[0]"
   ]
  },
  {
   "cell_type": "markdown",
   "metadata": {
    "id": "G6oOol9-pqXi"
   },
   "source": [
    "## Split to train and test\n",
    "\n",
    "Here number of samples is $N=50$\n",
    "\n",
    "So, we will split train and test as 40 and 10 samples respectively"
   ]
  },
  {
   "cell_type": "code",
   "execution_count": null,
   "metadata": {
    "id": "IBFor8N6pG-e"
   },
   "outputs": [],
   "source": [
    "X_train, y_train = X[:40], y[:40]\n",
    "X_test, y_test = X[40:], y[40:]"
   ]
  },
  {
   "cell_type": "code",
   "execution_count": 8,
   "metadata": {},
   "outputs": [],
   "source": [
    "class Ridge_R():\n",
    "      \n",
    "    def __init__(self, λ=1e-1):\n",
    "        self.λ = λ # Ridge regression parameter\n",
    "          \n",
    "    def fit(self, X, y):\n",
    "        self.m, self.n = X.shape\n",
    "        z1 = (X.T @ X + self.λ * np.eye(self.n))\n",
    "        z2 = X.T @ y\n",
    "        self.W = np.linalg.inv(z1) @ z2\n",
    "\n",
    "    def predict(self, X):    \n",
    "        return X.dot(self.W)"
   ]
  },
  {
   "cell_type": "code",
   "execution_count": 9,
   "metadata": {},
   "outputs": [],
   "source": [
    "row_sums = X.sum(axis=1)\n",
    "X = X / row_sums[:, np.newaxis]"
   ]
  },
  {
   "cell_type": "code",
   "execution_count": 10,
   "metadata": {},
   "outputs": [],
   "source": [
    "from sklearn.model_selection import train_test_split\n",
    "X_train1, X_test, y_train1, y_test = train_test_split(X, y, test_size=0.2, random_state=42)\n",
    "X_train, X_val, y_train, y_val = train_test_split(X_train1, y_train1, test_size = 0.2, random_state=42)"
   ]
  },
  {
   "cell_type": "code",
   "execution_count": 11,
   "metadata": {},
   "outputs": [],
   "source": [
    "X_train = np.c_[np.ones(X_train.shape), X_train]\n",
    "X_train1 = np.c_[np.ones(X_train1.shape), X_train1]\n",
    "X_val = np.c_[np.ones(X_val.shape), X_val]\n",
    "X_test = np.c_[np.ones(X_test.shape), X_test]"
   ]
  },
  {
   "cell_type": "code",
   "execution_count": 12,
   "metadata": {},
   "outputs": [
    {
     "ename": "ValueError",
     "evalue": "too many values to unpack (expected 2)",
     "output_type": "error",
     "traceback": [
      "\u001b[1;31m---------------------------------------------------------------------------\u001b[0m",
      "\u001b[1;31mValueError\u001b[0m                                Traceback (most recent call last)",
      "\u001b[1;32m<ipython-input-12-214f0f20c4f1>\u001b[0m in \u001b[0;36m<module>\u001b[1;34m\u001b[0m\n\u001b[0;32m      6\u001b[0m \u001b[1;32mfor\u001b[0m \u001b[0mλ\u001b[0m \u001b[1;32min\u001b[0m \u001b[0marr\u001b[0m\u001b[1;33m:\u001b[0m\u001b[1;33m\u001b[0m\u001b[1;33m\u001b[0m\u001b[0m\n\u001b[0;32m      7\u001b[0m     \u001b[0mclf\u001b[0m \u001b[1;33m=\u001b[0m \u001b[0mRidge_R\u001b[0m\u001b[1;33m(\u001b[0m\u001b[0mλ\u001b[0m\u001b[1;33m=\u001b[0m\u001b[0mλ\u001b[0m\u001b[1;33m)\u001b[0m\u001b[1;33m\u001b[0m\u001b[1;33m\u001b[0m\u001b[0m\n\u001b[1;32m----> 8\u001b[1;33m     \u001b[0mclf\u001b[0m\u001b[1;33m.\u001b[0m\u001b[0mfit\u001b[0m\u001b[1;33m(\u001b[0m\u001b[0mX_train\u001b[0m\u001b[1;33m,\u001b[0m \u001b[0my_train\u001b[0m\u001b[1;33m)\u001b[0m\u001b[1;33m\u001b[0m\u001b[1;33m\u001b[0m\u001b[0m\n\u001b[0m\u001b[0;32m      9\u001b[0m     \u001b[0my_pred\u001b[0m \u001b[1;33m=\u001b[0m \u001b[0mclf\u001b[0m\u001b[1;33m.\u001b[0m\u001b[0mpredict\u001b[0m\u001b[1;33m(\u001b[0m\u001b[0mX_val\u001b[0m\u001b[1;33m)\u001b[0m\u001b[1;33m\u001b[0m\u001b[1;33m\u001b[0m\u001b[0m\n\u001b[0;32m     10\u001b[0m     \u001b[0mm\u001b[0m \u001b[1;33m=\u001b[0m \u001b[0mmean_squared_error\u001b[0m\u001b[1;33m(\u001b[0m\u001b[0my_val\u001b[0m\u001b[1;33m,\u001b[0m \u001b[0my_pred\u001b[0m\u001b[1;33m)\u001b[0m\u001b[1;33m\u001b[0m\u001b[1;33m\u001b[0m\u001b[0m\n",
      "\u001b[1;32m<ipython-input-8-dd8d489d94f8>\u001b[0m in \u001b[0;36mfit\u001b[1;34m(self, X, y)\u001b[0m\n\u001b[0;32m      5\u001b[0m \u001b[1;33m\u001b[0m\u001b[0m\n\u001b[0;32m      6\u001b[0m     \u001b[1;32mdef\u001b[0m \u001b[0mfit\u001b[0m\u001b[1;33m(\u001b[0m\u001b[0mself\u001b[0m\u001b[1;33m,\u001b[0m \u001b[0mX\u001b[0m\u001b[1;33m,\u001b[0m \u001b[0my\u001b[0m\u001b[1;33m)\u001b[0m\u001b[1;33m:\u001b[0m\u001b[1;33m\u001b[0m\u001b[1;33m\u001b[0m\u001b[0m\n\u001b[1;32m----> 7\u001b[1;33m         \u001b[0mself\u001b[0m\u001b[1;33m.\u001b[0m\u001b[0mm\u001b[0m\u001b[1;33m,\u001b[0m \u001b[0mself\u001b[0m\u001b[1;33m.\u001b[0m\u001b[0mn\u001b[0m \u001b[1;33m=\u001b[0m \u001b[0mX\u001b[0m\u001b[1;33m.\u001b[0m\u001b[0mshape\u001b[0m\u001b[1;33m\u001b[0m\u001b[1;33m\u001b[0m\u001b[0m\n\u001b[0m\u001b[0;32m      8\u001b[0m         \u001b[0mz1\u001b[0m \u001b[1;33m=\u001b[0m \u001b[1;33m(\u001b[0m\u001b[0mX\u001b[0m\u001b[1;33m.\u001b[0m\u001b[0mT\u001b[0m \u001b[1;33m@\u001b[0m \u001b[0mX\u001b[0m \u001b[1;33m+\u001b[0m \u001b[0mself\u001b[0m\u001b[1;33m.\u001b[0m\u001b[0mλ\u001b[0m \u001b[1;33m*\u001b[0m \u001b[0mnp\u001b[0m\u001b[1;33m.\u001b[0m\u001b[0meye\u001b[0m\u001b[1;33m(\u001b[0m\u001b[0mself\u001b[0m\u001b[1;33m.\u001b[0m\u001b[0mn\u001b[0m\u001b[1;33m)\u001b[0m\u001b[1;33m)\u001b[0m\u001b[1;33m\u001b[0m\u001b[1;33m\u001b[0m\u001b[0m\n\u001b[0;32m      9\u001b[0m         \u001b[0mz2\u001b[0m \u001b[1;33m=\u001b[0m \u001b[0mX\u001b[0m\u001b[1;33m.\u001b[0m\u001b[0mT\u001b[0m \u001b[1;33m@\u001b[0m \u001b[0my\u001b[0m\u001b[1;33m\u001b[0m\u001b[1;33m\u001b[0m\u001b[0m\n",
      "\u001b[1;31mValueError\u001b[0m: too many values to unpack (expected 2)"
     ]
    }
   ],
   "source": [
    "arr = [0.001, 0.005] \n",
    "\n",
    "mse = []\n",
    "best = arr[0]\n",
    "low_m = np.inf\n",
    "for λ in arr:\n",
    "    clf = Ridge_R(λ=λ)\n",
    "    clf.fit(X_train, y_train)\n",
    "    y_pred = clf.predict(X_val)\n",
    "    m = mean_squared_error(y_val, y_pred)\n",
    "    if m < low_m:\n",
    "        best = λ\n",
    "        low_m = m\n",
    "    mse.append(m)\n",
    "\n",
    "print('Best Ridge regression hyperparameter λ value =',best,'(lowest MSE)\\n')\n",
    "\n",
    "plt.plot(arr,mse)\n",
    "plt.title('MSE value vs Ridge regression hyperparameter λ')\n",
    "plt.xlabel('λ')\n",
    "plt.ylabel('MSE')\n",
    "plt.show()"
   ]
  },
  {
   "cell_type": "markdown",
   "metadata": {
    "id": "H9eWL7OQt8dH"
   },
   "source": [
    "## Training the model\n",
    "\n",
    "We are now ready to fit an LSTM model on this data"
   ]
  },
  {
   "cell_type": "code",
   "execution_count": null,
   "metadata": {
    "id": "aV_7xU0Tt-L5"
   },
   "outputs": [],
   "source": [
    "# define model\n",
    "model = Sequential()\n",
    "\n",
    "n_steps, n_features = 3, 2\n",
    "\n",
    "# Each of our sample has input of shape (number_timesteps, number_features) \n",
    "# This is provided to the LSTM model via input_shape argument\n",
    "# Activation function is set as 'relu' and there are 50 nodes in LSTM model\n",
    "\n",
    "model.add(LSTM(50, activation='relu', input_shape=(n_steps, n_features)))\n",
    "\n",
    "# Since each sample has an output of shape=1 only (remember first sample output was 65)\n",
    "# Thus we add a Dense layer with only 1 node \n",
    "\n",
    "model.add(Dense(1))\n",
    "\n",
    "# Our optimizer is \"adam\" and loss that we use for regression is \"mse\" (mean square)\n",
    "\n",
    "model.compile(optimizer='adam', loss='mape')"
   ]
  },
  {
   "cell_type": "markdown",
   "metadata": {
    "id": "0kpt_wgBvtWH"
   },
   "source": [
    "## Summary of the model parameters"
   ]
  },
  {
   "cell_type": "code",
   "execution_count": null,
   "metadata": {
    "colab": {
     "base_uri": "https://localhost:8080/"
    },
    "id": "1skm4FXovr22",
    "outputId": "8cc5fc7c-237f-4ac1-f9d2-cffd25673e4b"
   },
   "outputs": [],
   "source": [
    "model.summary()"
   ]
  },
  {
   "cell_type": "markdown",
   "metadata": {
    "id": "hJpwzOsMv5Kc"
   },
   "source": [
    "## Fit the model\n",
    "\n",
    "Finally we fit the model on train dataset and predict it on test dataset"
   ]
  },
  {
   "cell_type": "code",
   "execution_count": null,
   "metadata": {
    "colab": {
     "base_uri": "https://localhost:8080/"
    },
    "id": "kvLcelr1vx48",
    "outputId": "7432ab07-c1f6-4739-9662-2f8d2d4ee63e"
   },
   "outputs": [],
   "source": [
    "model.fit(X_train, y_train, batch_size=16,epochs=200, verbose=1)"
   ]
  },
  {
   "cell_type": "markdown",
   "metadata": {
    "id": "WNiUagZCwMqq"
   },
   "source": [
    "# Make prediction\n",
    "We predict the values on test data"
   ]
  },
  {
   "cell_type": "code",
   "execution_count": null,
   "metadata": {
    "id": "eXUyb7BdwHPD"
   },
   "outputs": [],
   "source": [
    "yhat = model.predict(X_test, verbose=0)\n",
    "yhat = yhat.flatten()"
   ]
  },
  {
   "cell_type": "markdown",
   "metadata": {
    "id": "Rj6CkQZSwbov"
   },
   "source": [
    "## First test sample"
   ]
  },
  {
   "cell_type": "code",
   "execution_count": null,
   "metadata": {
    "colab": {
     "base_uri": "https://localhost:8080/"
    },
    "id": "k_bTc0fawYqT",
    "outputId": "b7c63a1e-aa53-4795-cb07-1929ddf2e99b"
   },
   "outputs": [],
   "source": [
    "X_test[0]"
   ]
  },
  {
   "cell_type": "code",
   "execution_count": null,
   "metadata": {
    "colab": {
     "base_uri": "https://localhost:8080/"
    },
    "id": "hNVwcQaAwhmU",
    "outputId": "c629e5ff-20f5-4f71-a768-5359cf02fb95"
   },
   "outputs": [],
   "source": [
    "y_test[0], yhat[0]"
   ]
  },
  {
   "cell_type": "markdown",
   "metadata": {
    "id": "PgFegMpMw6IY"
   },
   "source": [
    "### So we observe such close prediction!\n",
    "\n"
   ]
  },
  {
   "cell_type": "markdown",
   "metadata": {
    "id": "54PmuUq5w3dI"
   },
   "source": [
    "## Second Test sample"
   ]
  },
  {
   "cell_type": "code",
   "execution_count": null,
   "metadata": {
    "colab": {
     "base_uri": "https://localhost:8080/"
    },
    "id": "9kZh5c44w-fG",
    "outputId": "71d36552-82f3-406e-c450-ece1b3942220"
   },
   "outputs": [],
   "source": [
    "X_test[1]"
   ]
  },
  {
   "cell_type": "code",
   "execution_count": null,
   "metadata": {
    "colab": {
     "base_uri": "https://localhost:8080/"
    },
    "id": "9WOqWGUPxBpK",
    "outputId": "7204221e-b477-48ef-ac12-15f2524ece9c"
   },
   "outputs": [],
   "source": [
    "y_test[1], yhat[1]"
   ]
  },
  {
   "cell_type": "markdown",
   "metadata": {
    "id": "yUIPhYCAxHc7"
   },
   "source": [
    "### Again the prediction is very close!"
   ]
  }
 ],
 "metadata": {
  "colab": {
   "collapsed_sections": [],
   "name": "LSTM.ipynb",
   "provenance": []
  },
  "kernelspec": {
   "display_name": "Python 3",
   "language": "python",
   "name": "python3"
  },
  "language_info": {
   "codemirror_mode": {
    "name": "ipython",
    "version": 3
   },
   "file_extension": ".py",
   "mimetype": "text/x-python",
   "name": "python",
   "nbconvert_exporter": "python",
   "pygments_lexer": "ipython3",
   "version": "3.8.8"
  }
 },
 "nbformat": 4,
 "nbformat_minor": 1
}
