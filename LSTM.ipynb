{
  "nbformat": 4,
  "nbformat_minor": 0,
  "metadata": {
    "kernelspec": {
      "display_name": "Python 3",
      "language": "python",
      "name": "python3"
    },
    "language_info": {
      "codemirror_mode": {
        "name": "ipython",
        "version": 3
      },
      "file_extension": ".py",
      "mimetype": "text/x-python",
      "name": "python",
      "nbconvert_exporter": "python",
      "pygments_lexer": "ipython3",
      "version": "3.7.4"
    },
    "colab": {
      "name": "LSTM.ipynb",
      "provenance": [],
      "collapsed_sections": []
    }
  },
  "cells": [
    {
      "cell_type": "markdown",
      "metadata": {
        "id": "qD4sujxpl9wB"
      },
      "source": [
        "## Multi variable LSTM model\n",
        "\n",
        "We will be working with **Multivariate time series data** which means that the data has more than one feature (input) for each time step"
      ]
    },
    {
      "cell_type": "code",
      "metadata": {
        "id": "8wmfzqMZl81C"
      },
      "source": [
        "import pandas as pd\n",
        "import numpy as np\n",
        "from keras.models import Sequential\n",
        "from keras.layers import LSTM\n",
        "from keras.layers import Dense"
      ],
      "execution_count": 21,
      "outputs": []
    },
    {
      "cell_type": "markdown",
      "metadata": {
        "id": "4fIOdAKznd4O"
      },
      "source": [
        "## Dataset\n",
        "\n",
        "Simple example of two input time series (**X1** and **X2**) where the output series (**y**) is the simple addition of the input series (**y=X1+X2**)"
      ]
    },
    {
      "cell_type": "code",
      "metadata": {
        "id": "AdLyWHbFc9jF"
      },
      "source": [
        "N = 50 # Number of samples\n",
        "in_1 = [i*10 for i in range(1,N)]\n",
        "in_2 = [i*10+5 for i in range(1,N)]\n",
        "out = [in_1[i]+in_2[i] for i in range(len(in_1))]"
      ],
      "execution_count": 18,
      "outputs": []
    },
    {
      "cell_type": "code",
      "metadata": {
        "colab": {
          "base_uri": "https://localhost:8080/",
          "height": 204
        },
        "id": "L4kIVV-QnDjp",
        "outputId": "36ebb607-69b4-499e-eca3-16aa65581784"
      },
      "source": [
        "df = pd.DataFrame()\n",
        "df[\"X1\"] = in_1\n",
        "df[\"X2\"] = in_2\n",
        "df[\"y\"] = out\n",
        "df.head()"
      ],
      "execution_count": 19,
      "outputs": [
        {
          "output_type": "execute_result",
          "data": {
            "text/html": [
              "<div>\n",
              "<style scoped>\n",
              "    .dataframe tbody tr th:only-of-type {\n",
              "        vertical-align: middle;\n",
              "    }\n",
              "\n",
              "    .dataframe tbody tr th {\n",
              "        vertical-align: top;\n",
              "    }\n",
              "\n",
              "    .dataframe thead th {\n",
              "        text-align: right;\n",
              "    }\n",
              "</style>\n",
              "<table border=\"1\" class=\"dataframe\">\n",
              "  <thead>\n",
              "    <tr style=\"text-align: right;\">\n",
              "      <th></th>\n",
              "      <th>X1</th>\n",
              "      <th>X2</th>\n",
              "      <th>y</th>\n",
              "    </tr>\n",
              "  </thead>\n",
              "  <tbody>\n",
              "    <tr>\n",
              "      <th>0</th>\n",
              "      <td>10</td>\n",
              "      <td>15</td>\n",
              "      <td>25</td>\n",
              "    </tr>\n",
              "    <tr>\n",
              "      <th>1</th>\n",
              "      <td>20</td>\n",
              "      <td>25</td>\n",
              "      <td>45</td>\n",
              "    </tr>\n",
              "    <tr>\n",
              "      <th>2</th>\n",
              "      <td>30</td>\n",
              "      <td>35</td>\n",
              "      <td>65</td>\n",
              "    </tr>\n",
              "    <tr>\n",
              "      <th>3</th>\n",
              "      <td>40</td>\n",
              "      <td>45</td>\n",
              "      <td>85</td>\n",
              "    </tr>\n",
              "    <tr>\n",
              "      <th>4</th>\n",
              "      <td>50</td>\n",
              "      <td>55</td>\n",
              "      <td>105</td>\n",
              "    </tr>\n",
              "  </tbody>\n",
              "</table>\n",
              "</div>"
            ],
            "text/plain": [
              "   X1  X2    y\n",
              "0  10  15   25\n",
              "1  20  25   45\n",
              "2  30  35   65\n",
              "3  40  45   85\n",
              "4  50  55  105"
            ]
          },
          "metadata": {},
          "execution_count": 19
        }
      ]
    },
    {
      "cell_type": "markdown",
      "metadata": {
        "id": "uoA_m98AqYUB"
      },
      "source": [
        "## Made data as 3D\n",
        "\n",
        "This is the main step where we make our dataset as 3D shape (because LSTM requires it in this way) \n",
        "\n",
        "*(number_samples, number_timesteps, number_features)*\n",
        "\n",
        "Obviously `number_features = 2` here (because **X1, X2** are the 2 input features)\n",
        "\n",
        "Suppose if `number_timesteps = 3` then, our first sample input will be:\n",
        "\n",
        "**Input**:\n",
        "\n",
        "10, 15\n",
        "\n",
        "20, 25\n",
        "\n",
        "30, 35\n",
        "\n",
        "and our output will be (corresponding to last sample):\n",
        "\n",
        "**Output**:\n",
        "\n",
        "65\n",
        "\n",
        "We can define a function named **split_sequences()** that will make the dataset into the form as we have discussed above (through some very simple manipulations)\n",
        "\n",
        "In this function, the arguement `sequences` denote the entire dataset and `n_steps` denote the **number_timesteps**"
      ]
    },
    {
      "cell_type": "code",
      "metadata": {
        "id": "A_NAQOkPqNME"
      },
      "source": [
        "def split_sequences(sequences, n_steps):\n",
        "    X, y = list(), list()\n",
        "    for i in range(len(sequences)):\n",
        "        end_ix = i + n_steps\n",
        "        if end_ix > len(sequences):\n",
        "          break\n",
        "        seq_x, seq_y = sequences[i:end_ix, :-1], sequences[end_ix-1, -1]\n",
        "        X.append(seq_x)\n",
        "        y.append(seq_y)\n",
        "    return np.array(X), np.array(y)"
      ],
      "execution_count": 22,
      "outputs": []
    },
    {
      "cell_type": "code",
      "metadata": {
        "id": "QNbXZINhsMSe"
      },
      "source": [
        "X, y = split_sequences(df.values, 3)"
      ],
      "execution_count": 23,
      "outputs": []
    },
    {
      "cell_type": "code",
      "metadata": {
        "colab": {
          "base_uri": "https://localhost:8080/"
        },
        "id": "x_uLJA4StWbN",
        "outputId": "0f38570d-7c4c-44f3-cd43-b786c5683950"
      },
      "source": [
        "X.shape, y.shape"
      ],
      "execution_count": 24,
      "outputs": [
        {
          "output_type": "execute_result",
          "data": {
            "text/plain": [
              "((47, 3, 2), (47,))"
            ]
          },
          "metadata": {},
          "execution_count": 24
        }
      ]
    },
    {
      "cell_type": "markdown",
      "metadata": {
        "id": "gP6zfSYItd1o"
      },
      "source": [
        "### First sample"
      ]
    },
    {
      "cell_type": "code",
      "metadata": {
        "colab": {
          "base_uri": "https://localhost:8080/"
        },
        "id": "M8304CjjtbHD",
        "outputId": "e4b6a359-9d41-4dd7-8117-a3d05e8e3abd"
      },
      "source": [
        "X[0], y[0]"
      ],
      "execution_count": 26,
      "outputs": [
        {
          "output_type": "execute_result",
          "data": {
            "text/plain": [
              "(array([[10, 15],\n",
              "        [20, 25],\n",
              "        [30, 35]]), 65)"
            ]
          },
          "metadata": {},
          "execution_count": 26
        }
      ]
    },
    {
      "cell_type": "markdown",
      "metadata": {
        "id": "G6oOol9-pqXi"
      },
      "source": [
        "## Split to train and test\n",
        "\n",
        "Here number of samples is $N=50$\n",
        "\n",
        "So, we will split train and test as 40 and 10 samples respectively"
      ]
    },
    {
      "cell_type": "code",
      "metadata": {
        "id": "IBFor8N6pG-e"
      },
      "source": [
        "X_train, y_train = X[:40], y[:40]\n",
        "X_test, y_test = X[40:], y[40:]"
      ],
      "execution_count": 27,
      "outputs": []
    },
    {
      "cell_type": "markdown",
      "metadata": {
        "id": "H9eWL7OQt8dH"
      },
      "source": [
        "## Training the model\n",
        "\n",
        "We are now ready to fit an LSTM model on this data"
      ]
    },
    {
      "cell_type": "code",
      "metadata": {
        "id": "aV_7xU0Tt-L5"
      },
      "source": [
        "# define model\n",
        "model = Sequential()\n",
        "\n",
        "n_steps, n_features = 3, 2\n",
        "\n",
        "# Each of our sample has input of shape (number_timesteps, number_features) \n",
        "# This is provided to the LSTM model via input_shape argument\n",
        "# Activation function is set as 'relu' and there are 50 nodes in LSTM model\n",
        "\n",
        "model.add(LSTM(50, activation='relu', input_shape=(n_steps, n_features)))\n",
        "\n",
        "# Since each sample has an output of shape=1 only (remember first sample output was 65)\n",
        "# Thus we add a Dense layer with only 1 node \n",
        "\n",
        "model.add(Dense(1))\n",
        "\n",
        "# Our optimizer is \"adam\" and loss that we use for regression is \"mse\" (mean square)\n",
        "\n",
        "model.compile(optimizer='adam', loss='mse')"
      ],
      "execution_count": 28,
      "outputs": []
    },
    {
      "cell_type": "markdown",
      "metadata": {
        "id": "0kpt_wgBvtWH"
      },
      "source": [
        "## Summary of the model parameters"
      ]
    },
    {
      "cell_type": "code",
      "metadata": {
        "colab": {
          "base_uri": "https://localhost:8080/"
        },
        "id": "1skm4FXovr22",
        "outputId": "8cc5fc7c-237f-4ac1-f9d2-cffd25673e4b"
      },
      "source": [
        "model.summary()"
      ],
      "execution_count": 29,
      "outputs": [
        {
          "output_type": "stream",
          "name": "stdout",
          "text": [
            "Model: \"sequential\"\n",
            "_________________________________________________________________\n",
            "Layer (type)                 Output Shape              Param #   \n",
            "=================================================================\n",
            "lstm (LSTM)                  (None, 50)                10600     \n",
            "_________________________________________________________________\n",
            "dense (Dense)                (None, 1)                 51        \n",
            "=================================================================\n",
            "Total params: 10,651\n",
            "Trainable params: 10,651\n",
            "Non-trainable params: 0\n",
            "_________________________________________________________________\n"
          ]
        }
      ]
    },
    {
      "cell_type": "markdown",
      "metadata": {
        "id": "hJpwzOsMv5Kc"
      },
      "source": [
        "## Fit the model\n",
        "\n",
        "Finally we fit the model on train dataset and predict it on test dataset"
      ]
    },
    {
      "cell_type": "code",
      "metadata": {
        "colab": {
          "base_uri": "https://localhost:8080/"
        },
        "id": "kvLcelr1vx48",
        "outputId": "7432ab07-c1f6-4739-9662-2f8d2d4ee63e"
      },
      "source": [
        "model.fit(X_train, y_train, epochs=200, verbose=0)"
      ],
      "execution_count": 30,
      "outputs": [
        {
          "output_type": "execute_result",
          "data": {
            "text/plain": [
              "<keras.callbacks.History at 0x7f797029e410>"
            ]
          },
          "metadata": {},
          "execution_count": 30
        }
      ]
    },
    {
      "cell_type": "markdown",
      "metadata": {
        "id": "WNiUagZCwMqq"
      },
      "source": [
        "# Make prediction\n",
        "We predict the values on test data"
      ]
    },
    {
      "cell_type": "code",
      "metadata": {
        "id": "eXUyb7BdwHPD"
      },
      "source": [
        "yhat = model.predict(X_test, verbose=0)\n",
        "yhat = yhat.flatten()"
      ],
      "execution_count": 36,
      "outputs": []
    },
    {
      "cell_type": "markdown",
      "metadata": {
        "id": "Rj6CkQZSwbov"
      },
      "source": [
        "## First test sample"
      ]
    },
    {
      "cell_type": "code",
      "metadata": {
        "colab": {
          "base_uri": "https://localhost:8080/"
        },
        "id": "k_bTc0fawYqT",
        "outputId": "b7c63a1e-aa53-4795-cb07-1929ddf2e99b"
      },
      "source": [
        "X_test[0]"
      ],
      "execution_count": 32,
      "outputs": [
        {
          "output_type": "execute_result",
          "data": {
            "text/plain": [
              "array([[410, 415],\n",
              "       [420, 425],\n",
              "       [430, 435]])"
            ]
          },
          "metadata": {},
          "execution_count": 32
        }
      ]
    },
    {
      "cell_type": "code",
      "metadata": {
        "colab": {
          "base_uri": "https://localhost:8080/"
        },
        "id": "hNVwcQaAwhmU",
        "outputId": "c629e5ff-20f5-4f71-a768-5359cf02fb95"
      },
      "source": [
        "y_test[0], yhat[0]"
      ],
      "execution_count": 38,
      "outputs": [
        {
          "output_type": "execute_result",
          "data": {
            "text/plain": [
              "(865, 865.2869)"
            ]
          },
          "metadata": {},
          "execution_count": 38
        }
      ]
    },
    {
      "cell_type": "markdown",
      "metadata": {
        "id": "PgFegMpMw6IY"
      },
      "source": [
        "### So we observe such close prediction!\n",
        "\n"
      ]
    },
    {
      "cell_type": "markdown",
      "metadata": {
        "id": "54PmuUq5w3dI"
      },
      "source": [
        "## Second Test sample"
      ]
    },
    {
      "cell_type": "code",
      "metadata": {
        "colab": {
          "base_uri": "https://localhost:8080/"
        },
        "id": "9kZh5c44w-fG",
        "outputId": "71d36552-82f3-406e-c450-ece1b3942220"
      },
      "source": [
        "X_test[1]"
      ],
      "execution_count": 39,
      "outputs": [
        {
          "output_type": "execute_result",
          "data": {
            "text/plain": [
              "array([[420, 425],\n",
              "       [430, 435],\n",
              "       [440, 445]])"
            ]
          },
          "metadata": {},
          "execution_count": 39
        }
      ]
    },
    {
      "cell_type": "code",
      "metadata": {
        "colab": {
          "base_uri": "https://localhost:8080/"
        },
        "id": "9WOqWGUPxBpK",
        "outputId": "7204221e-b477-48ef-ac12-15f2524ece9c"
      },
      "source": [
        "y_test[1], yhat[1]"
      ],
      "execution_count": 40,
      "outputs": [
        {
          "output_type": "execute_result",
          "data": {
            "text/plain": [
              "(885, 885.3503)"
            ]
          },
          "metadata": {},
          "execution_count": 40
        }
      ]
    },
    {
      "cell_type": "markdown",
      "metadata": {
        "id": "yUIPhYCAxHc7"
      },
      "source": [
        "### Again the prediction is very close!"
      ]
    }
  ]
}